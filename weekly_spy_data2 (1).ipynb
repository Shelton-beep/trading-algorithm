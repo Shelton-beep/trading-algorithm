{
  "nbformat": 4,
  "nbformat_minor": 0,
  "metadata": {
    "colab": {
      "provenance": []
    },
    "kernelspec": {
      "name": "python3",
      "display_name": "Python 3"
    },
    "language_info": {
      "name": "python"
    }
  },
  "cells": [
    {
      "cell_type": "code",
      "execution_count": 6,
      "metadata": {
        "id": "duVMPj-4gXSQ"
      },
      "outputs": [],
      "source": [
        "import pandas as pd\n",
        "import plotly.graph_objs as go\n"
      ]
    },
    {
      "cell_type": "code",
      "source": [
        "def load_and_prepare_data(file_path):\n",
        "    \"\"\"\n",
        "    Load SPY data from a CSV file, parse dates, and calculate EMA(21) and MA(50).\n",
        "    \"\"\"\n",
        "    df = pd.read_csv(file_path)\n",
        "    df['time'] = pd.to_datetime(df['time'], errors='coerce')\n",
        "    df.sort_values('time', inplace=True)\n",
        "\n",
        "    # Calculate EMA(21) and MA(50)\n",
        "    df['EMA_21'] = df['close'].ewm(span=21, adjust=False).mean()\n",
        "    df['MA_50'] = df['close'].rolling(window=50).mean()\n",
        "    return df\n"
      ],
      "metadata": {
        "id": "zqhknYlqcdTF"
      },
      "execution_count": 7,
      "outputs": []
    },
    {
      "cell_type": "code",
      "source": [
        "def implement_trading_strategy(df):\n",
        "    \"\"\"\n",
        "    Detect buy/sell signals based on EMA(21) and MA(50) crossovers.\n",
        "    Returns a DataFrame with trade entries and exits.\n",
        "    \"\"\"\n",
        "    trades = []  # List to store each trade\n",
        "    position = None  # Tracks if a position is open (\"buy\") or not (None)\n",
        "\n",
        "    for i in range(1, len(df)):\n",
        "        # Buy signal: MA_50 crosses above EMA_21\n",
        "        if df['MA_50'].iloc[i] > df['EMA_21'].iloc[i] and df['MA_50'].iloc[i - 1] <= df['EMA_21'].iloc[i - 1]:\n",
        "            if position is None:  # Only buy if not already holding\n",
        "                position = \"buy\"\n",
        "                entry_time = df['time'].iloc[i]\n",
        "                entry_price = df['close'].iloc[i]\n",
        "\n",
        "        # Sell signal: EMA_21 crosses above MA_50\n",
        "        elif df['EMA_21'].iloc[i] > df['MA_50'].iloc[i] and df['EMA_21'].iloc[i - 1] <= df['MA_50'].iloc[i - 1]:\n",
        "            if position == \"buy\":  # Only sell if there's an open position\n",
        "                position = None\n",
        "                exit_time = df['time'].iloc[i]\n",
        "                exit_price = df['close'].iloc[i]\n",
        "                pnl = (exit_price / entry_price) - 1\n",
        "                trades.append({\n",
        "                    \"enter_time\": entry_time,\n",
        "                    \"exit_time\": exit_time,\n",
        "                    \"enter_price\": entry_price,\n",
        "                    \"exit_price\": exit_price,\n",
        "                    \"pnl\": pnl\n",
        "                })\n",
        "\n",
        "    # Close any open position at the last date\n",
        "    if position == \"buy\":\n",
        "        exit_time = df['time'].iloc[-1]\n",
        "        exit_price = df['close'].iloc[-1]\n",
        "        pnl = (exit_price / entry_price) - 1\n",
        "        trades.append({\n",
        "            \"enter_time\": entry_time,\n",
        "            \"exit_time\": exit_time,\n",
        "            \"enter_price\": entry_price,\n",
        "            \"exit_price\": exit_price,\n",
        "            \"pnl\": pnl\n",
        "        })\n",
        "\n",
        "    trades_df = pd.DataFrame(trades)\n",
        "    return trades_df\n"
      ],
      "metadata": {
        "id": "98hTdfldceaA"
      },
      "execution_count": 8,
      "outputs": []
    },
    {
      "cell_type": "code",
      "source": [
        "# File path to the CSV data\n",
        "file_path = '/content/drive/MyDrive/BATS_SPY_1W_homework.csv'\n",
        "\n",
        "# Load and prepare data\n",
        "df = load_and_prepare_data(file_path)\n",
        "\n",
        "# Apply the trading strategy and get trades\n",
        "trades_df = implement_trading_strategy(df)\n",
        "\n",
        "# Display the trades\n",
        "print(trades_df)\n"
      ],
      "metadata": {
        "colab": {
          "base_uri": "https://localhost:8080/"
        },
        "id": "T4eJ_fk3ciEX",
        "outputId": "b67297a5-8cbd-4e5e-ddbe-3b048e5ae6f8"
      },
      "execution_count": 9,
      "outputs": [
        {
          "output_type": "stream",
          "name": "stdout",
          "text": [
            "                      enter_time                     exit_time  enter_price  \\\n",
            "0  1970-01-01 00:00:00.767280600 1970-01-01 00:00:00.781795800     45.09375   \n",
            "1  1970-01-01 00:00:00.787242600 1970-01-01 00:00:00.787847400     45.75000   \n",
            "2  1970-01-01 00:00:00.788452200 1970-01-01 00:00:00.789057000     45.56250   \n",
            "3  1970-01-01 00:00:00.972307800 1970-01-01 00:00:01.053351000    139.28125   \n",
            "4  1970-01-01 00:00:01.098106200 1970-01-01 00:00:01.099319400    109.99001   \n",
            "5  1970-01-01 00:00:01.199716200 1970-01-01 00:00:01.249306200    140.14999   \n",
            "6  1970-01-01 00:00:01.281360600 1970-01-01 00:00:01.286199000    108.31000   \n",
            "7  1970-01-01 00:00:01.314019800 1970-01-01 00:00:01.328538600    117.97000   \n",
            "8  1970-01-01 00:00:01.441719000 1970-01-01 00:00:01.462800600    196.74000   \n",
            "9  1970-01-01 00:00:01.544452200 1970-01-01 00:00:01.554730200    260.47000   \n",
            "10 1970-01-01 00:00:01.584970200 1970-01-01 00:00:01.594647000    253.42000   \n",
            "11 1970-01-01 00:00:01.650893400 1970-01-01 00:00:01.679319000    412.00000   \n",
            "\n",
            "    exit_price       pnl  \n",
            "0     47.04687  0.043312  \n",
            "1     46.06250  0.006831  \n",
            "2     46.04687  0.010631  \n",
            "3     93.75999 -0.326830  \n",
            "4    117.28000  0.066279  \n",
            "5    101.20200 -0.277902  \n",
            "6    116.53751  0.075963  \n",
            "7    134.36099  0.138942  \n",
            "8    204.76000  0.040764  \n",
            "9    290.16000  0.113986  \n",
            "10   321.72000  0.269513  \n",
            "11   395.75000 -0.039442  \n"
          ]
        }
      ]
    }
  ]
}